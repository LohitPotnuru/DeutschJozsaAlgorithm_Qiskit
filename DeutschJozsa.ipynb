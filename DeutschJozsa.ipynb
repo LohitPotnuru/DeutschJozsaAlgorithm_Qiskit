{
 "cells": [
  {
   "cell_type": "code",
   "execution_count": 5,
   "metadata": {},
   "outputs": [],
   "source": [
    "from qiskit import *\n",
    "from random import randint\n",
    "from qiskit_textbook.problems import dj_problem_oracle\n"
   ]
  },
  {
   "cell_type": "code",
   "execution_count": 41,
   "metadata": {},
   "outputs": [
    {
     "name": "stdout",
     "output_type": "stream",
     "text": [
      "Enter a value if you want to test a random qiskit 4-bit oraclek\n"
     ]
    }
   ],
   "source": [
    "#number of bits in function\n",
    "qiskit_ex= bool(input(\"Enter a value if you want to test a random qiskit 4-bit oracle\"))\n",
    "if qiskit_ex==False:\n",
    "    n=int(input(\"Enter the number of bits in the function: \"))\n",
    "    if (input(\"Is the function constant? \"))=='True': constant=True\n",
    "    else: constant=False\n",
    "    print(constant)\n",
    "else:\n",
    "    n=4"
   ]
  },
  {
   "cell_type": "code",
   "execution_count": 42,
   "metadata": {},
   "outputs": [
    {
     "data": {
      "text/html": [
       "<pre style=\"word-wrap: normal;white-space: pre;background: #fff0;line-height: 1.1;font-family: &quot;Courier New&quot;,Courier,monospace\">     ┌───┐      ░ \n",
       "q_0: ┤ H ├──────░─\n",
       "     ├───┤      ░ \n",
       "q_1: ┤ H ├──────░─\n",
       "     ├───┤      ░ \n",
       "q_2: ┤ H ├──────░─\n",
       "     ├───┤      ░ \n",
       "q_3: ┤ H ├──────░─\n",
       "     ├───┤┌───┐ ░ \n",
       "q_4: ┤ X ├┤ H ├─░─\n",
       "     └───┘└───┘ ░ \n",
       "c: 4/═════════════\n",
       "                  </pre>"
      ],
      "text/plain": [
       "     ┌───┐      ░ \n",
       "q_0: ┤ H ├──────░─\n",
       "     ├───┤      ░ \n",
       "q_1: ┤ H ├──────░─\n",
       "     ├───┤      ░ \n",
       "q_2: ┤ H ├──────░─\n",
       "     ├───┤      ░ \n",
       "q_3: ┤ H ├──────░─\n",
       "     ├───┤┌───┐ ░ \n",
       "q_4: ┤ X ├┤ H ├─░─\n",
       "     └───┘└───┘ ░ \n",
       "c: 4/═════════════\n",
       "                  "
      ]
     },
     "execution_count": 42,
     "metadata": {},
     "output_type": "execute_result"
    }
   ],
   "source": [
    "#create circuit and initialize states\n",
    "circuit=QuantumCircuit(n+1,n)\n",
    "circuit.x(n)\n",
    "circuit.h(range(n+1))\n",
    "circuit.barrier()\n",
    "circuit.draw()"
   ]
  },
  {
   "cell_type": "code",
   "execution_count": 43,
   "metadata": {},
   "outputs": [],
   "source": [
    "#generate a constant function\n",
    "try:\n",
    "    if constant==True:\n",
    "        oracle=QuantumCircuit(n+1)\n",
    "        num=randint(0,2)\n",
    "        if num==0:\n",
    "            oracle.i(n)\n",
    "        if num==1:\n",
    "            oracle.x(n)\n",
    "    #test oracle for 2 qubit\n",
    "    if constant==False:\n",
    "        oracle=QuantumCircuit(n+1)\n",
    "        b =randint(1,2**n)\n",
    "        b_str = format(b, '0'+str(n)+'b')\n",
    "    \n",
    "        for i in range(len(b_str)):\n",
    "            if b_str[i]=='1':\n",
    "                oracle.x(int(i))\n",
    "\n",
    "        oracle.cx(range(0,n),n)\n",
    "\n",
    "        for i in range(len(b_str)):\n",
    "            if b_str[i]=='1':\n",
    "                oracle.x(int(i))\n",
    "            \n",
    "        circuit+=oracle\n",
    "        circuit.barrier()\n",
    "except:\n",
    "    oracle=QuantumCircuit(n+1)\n",
    "    gate = dj_problem_oracle(2)\n",
    "    oracle.append(oracle, range(n+1))\n",
    "    circuit+=oracle\n",
    "    circuit.barrier()\n",
    "    circuit.draw()"
   ]
  },
  {
   "cell_type": "code",
   "execution_count": 44,
   "metadata": {},
   "outputs": [
    {
     "data": {
      "text/html": [
       "<pre style=\"word-wrap: normal;white-space: pre;background: #fff0;line-height: 1.1;font-family: &quot;Courier New&quot;,Courier,monospace\">     ┌───┐      ░ ┌───┐┌─┐         \n",
       "q_0: ┤ H ├──────░─┤ H ├┤M├─────────\n",
       "     ├───┤      ░ ├───┤└╥┘┌─┐      \n",
       "q_1: ┤ H ├──────░─┤ H ├─╫─┤M├──────\n",
       "     ├───┤      ░ ├───┤ ║ └╥┘┌─┐   \n",
       "q_2: ┤ H ├──────░─┤ H ├─╫──╫─┤M├───\n",
       "     ├───┤      ░ ├───┤ ║  ║ └╥┘┌─┐\n",
       "q_3: ┤ H ├──────░─┤ H ├─╫──╫──╫─┤M├\n",
       "     ├───┤┌───┐ ░ └───┘ ║  ║  ║ └╥┘\n",
       "q_4: ┤ X ├┤ H ├─░───────╫──╫──╫──╫─\n",
       "     └───┘└───┘ ░       ║  ║  ║  ║ \n",
       "c: 4/═══════════════════╩══╩══╩══╩═\n",
       "                        0  1  2  3 </pre>"
      ],
      "text/plain": [
       "     ┌───┐      ░ ┌───┐┌─┐         \n",
       "q_0: ┤ H ├──────░─┤ H ├┤M├─────────\n",
       "     ├───┤      ░ ├───┤└╥┘┌─┐      \n",
       "q_1: ┤ H ├──────░─┤ H ├─╫─┤M├──────\n",
       "     ├───┤      ░ ├───┤ ║ └╥┘┌─┐   \n",
       "q_2: ┤ H ├──────░─┤ H ├─╫──╫─┤M├───\n",
       "     ├───┤      ░ ├───┤ ║  ║ └╥┘┌─┐\n",
       "q_3: ┤ H ├──────░─┤ H ├─╫──╫──╫─┤M├\n",
       "     ├───┤┌───┐ ░ └───┘ ║  ║  ║ └╥┘\n",
       "q_4: ┤ X ├┤ H ├─░───────╫──╫──╫──╫─\n",
       "     └───┘└───┘ ░       ║  ║  ║  ║ \n",
       "c: 4/═══════════════════╩══╩══╩══╩═\n",
       "                        0  1  2  3 "
      ]
     },
     "execution_count": 44,
     "metadata": {},
     "output_type": "execute_result"
    }
   ],
   "source": [
    "#reverse initial H gates and add measurements\n",
    "circuit.h(range(n))\n",
    "circuit.measure(range(n),range(n))\n",
    "circuit.draw()"
   ]
  },
  {
   "cell_type": "code",
   "execution_count": 45,
   "metadata": {},
   "outputs": [
    {
     "name": "stdout",
     "output_type": "stream",
     "text": [
      "{'0000': 1000}\n"
     ]
    }
   ],
   "source": [
    "#use Aer's qasm_simulater to execute\n",
    "backend = BasicAer.get_backend('qasm_simulator')\n",
    "#execute+ get results\n",
    "result = execute(circuit, backend, shots = 1000).result()\n",
    "#get counts of results\n",
    "counts = result.get_counts()\n",
    "\n",
    "print(counts)"
   ]
  },
  {
   "cell_type": "code",
   "execution_count": 46,
   "metadata": {},
   "outputs": [
    {
     "name": "stdout",
     "output_type": "stream",
     "text": [
      "the function is constant\n"
     ]
    }
   ],
   "source": [
    "constant=''\n",
    "for i in range(n): constant+=\"0\"\n",
    "if max(counts)==constant: print(\"the function is constant\")\n",
    "else: print(\"the function is balanced\")"
   ]
  },
  {
   "cell_type": "code",
   "execution_count": null,
   "metadata": {},
   "outputs": [],
   "source": []
  }
 ],
 "metadata": {
  "kernelspec": {
   "display_name": "Python (quantumEnv)",
   "language": "python",
   "name": "quantumenv"
  },
  "language_info": {
   "codemirror_mode": {
    "name": "ipython",
    "version": 3
   },
   "file_extension": ".py",
   "mimetype": "text/x-python",
   "name": "python",
   "nbconvert_exporter": "python",
   "pygments_lexer": "ipython3",
   "version": "3.9.2"
  }
 },
 "nbformat": 4,
 "nbformat_minor": 4
}
